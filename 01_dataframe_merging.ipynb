{
 "cells": [
  {
   "cell_type": "markdown",
   "metadata": {},
   "source": [
    "<div style=\"background-color: lightblue; color: black; padding: 20px; font-weight: bold; font-size: 20px;\">DataFrame merging</div><br>\n",
    "<div style=\"background-color: lightblue; color: black; padding: 10px; font-weight: bold; font-size: 15px;\">The dataset was initially divided into three separate files at the beginning of the project. In this notebook, we conduct an exploration of the data's structure and subsequently merge the files to create a single data frame.</div>"
   ]
  },
  {
   "cell_type": "markdown",
   "metadata": {},
   "source": [
    "<div style=\"background-color: lightblue; color: black; padding: 10px; font-weight: bold; font-size: 15px;\">Import modules</div>"
   ]
  },
  {
   "cell_type": "code",
   "execution_count": 1,
   "metadata": {},
   "outputs": [],
   "source": [
    "import pandas as pd\n",
    "import numpy as np"
   ]
  },
  {
   "cell_type": "markdown",
   "metadata": {},
   "source": [
    "<div style=\"background-color: lightblue; color: black; padding: 10px; font-weight: bold; font-size: 15px;\">Read data</div>"
   ]
  },
  {
   "cell_type": "code",
   "execution_count": 2,
   "metadata": {},
   "outputs": [],
   "source": [
    "df_train = pd.read_csv('data/train.csv')\n",
    "df_features = pd.read_csv('data/features.csv')\n",
    "df_stores = pd.read_csv('data/stores.csv')"
   ]
  },
  {
   "cell_type": "markdown",
   "metadata": {},
   "source": [
    "<div style=\"background-color: lightblue; color: black; padding: 10px; font-weight: bold; font-size: 15px;\">Explore structure of the data files</div>"
   ]
  },
  {
   "cell_type": "code",
   "execution_count": null,
   "metadata": {},
   "outputs": [],
   "source": [
    "df_train.head()\n",
    "df_features.head()\n",
    "df_stores.head()"
   ]
  },
  {
   "cell_type": "code",
   "execution_count": 4,
   "metadata": {},
   "outputs": [
    {
     "name": "stdout",
     "output_type": "stream",
     "text": [
      "Shape train data: (421570, 5)\n",
      "Shape train data: (8190, 12)\n",
      "Shape train data: (45, 3)\n"
     ]
    }
   ],
   "source": [
    "print('Shape train data:', df_train.shape)\n",
    "print('Shape train data:', df_features.shape)\n",
    "print('Shape train data:', df_stores.shape)"
   ]
  },
  {
   "cell_type": "markdown",
   "metadata": {},
   "source": [
    "#### Additional information:\n",
    "Markdowns:\n",
    "Super Bowl: 12-Feb-10, 11-Feb-11, 10-Feb-12, 8-Feb-13\\\n",
    "Labour Day: 10-Sep-10, 9-Sep-11, 7-Sep-12, 6-Sep-13\\\n",
    "Thanksgiving: 26-Nov-10, 25-Nov-11, 23-Nov-12, 29-Nov-13\\\n",
    "Christmas: 31-Dec-10, 30-Dec-11, 28-Dec-12, 27-Dec-13<br>\n",
    "\n",
    "CPI:\n",
    "The Consumer Price Index (CPI) is a significant economic indicator that measures the average change in prices for a representative selection of goods and services purchased by individuals over time."
   ]
  },
  {
   "cell_type": "markdown",
   "metadata": {},
   "source": [
    "<div style=\"background-color: lightblue; color: black; padding: 20px; font-weight: bold; font-size: 15px;\">DataFrame merging</div>"
   ]
  },
  {
   "cell_type": "markdown",
   "metadata": {},
   "source": [
    "<div style=\"background-color: lightblue; color: black; padding: 10px; font-weight: bold; font-size: 15px;\">First step: merge 'df_train' and 'df_features' with left join</div>"
   ]
  },
  {
   "cell_type": "code",
   "execution_count": 5,
   "metadata": {},
   "outputs": [],
   "source": [
    "combined_sales_features = pd.merge(df_train, df_features, on=['Store', 'Date'], how='left')"
   ]
  },
  {
   "cell_type": "markdown",
   "metadata": {},
   "source": [
    "<div style=\"background-color: lightblue; color: black; padding: 10px; font-weight: bold; font-size: 15px;\">Second step: merge 'df_stores' on 'combined_sales_features'\n",
    "</div><br>\n",
    "There have been date-store-combinations in the features file, which are not in the train file. As we do not need those rows, the left join was used."
   ]
  },
  {
   "cell_type": "code",
   "execution_count": 6,
   "metadata": {},
   "outputs": [],
   "source": [
    "combined_sales_features_stores = pd.merge(combined_sales_features, df_stores, on=['Store'], how='left')"
   ]
  },
  {
   "cell_type": "code",
   "execution_count": 7,
   "metadata": {},
   "outputs": [],
   "source": [
    "df = combined_sales_features_stores"
   ]
  },
  {
   "cell_type": "markdown",
   "metadata": {},
   "source": [
    "<div style=\"background-color: lightblue; color: black; padding: 10px; font-weight: bold; font-size: 15px;\">Write CSV-file\n",
    "</div><br>\n",
    "We are going to use this file in our data cleaning notebook."
   ]
  },
  {
   "cell_type": "code",
   "execution_count": 8,
   "metadata": {},
   "outputs": [],
   "source": [
    "df.to_csv('data/data_combined.csv')"
   ]
  }
 ],
 "metadata": {
  "kernelspec": {
   "display_name": ".venv",
   "language": "python",
   "name": "python3"
  },
  "language_info": {
   "codemirror_mode": {
    "name": "ipython",
    "version": 3
   },
   "file_extension": ".py",
   "mimetype": "text/x-python",
   "name": "python",
   "nbconvert_exporter": "python",
   "pygments_lexer": "ipython3",
   "version": "3.11.3"
  },
  "orig_nbformat": 4
 },
 "nbformat": 4,
 "nbformat_minor": 2
}
