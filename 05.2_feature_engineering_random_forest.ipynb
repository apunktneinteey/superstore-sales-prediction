{
 "cells": [
  {
   "cell_type": "markdown",
   "metadata": {},
   "source": [
    "<div style=\"background-color: lightblue; color: black; padding: 20px; font-weight: bold; font-size: 20px;\">Feature Engineering</div><br>"
   ]
  },
  {
   "cell_type": "markdown",
   "metadata": {},
   "source": [
    "<div style=\"background-color: lightblue; color: black; padding: 10px; font-weight: bold; font-size: 15px;\">\n",
    "In this notebook we are developing features to improve the performance of our prediction.\n",
    "Different types of features are generated. <br><br>\n",
    "First, simple calendar-based features are developed. In addition, dummy variables are created for categorial variables. Since decision-tree based models cannot calculate well with dummy variables, we reduce them to the bare minimum.<br><br>\n",
    "Then, features that inform the algorithm about certain seasonal patterns (here: christmas and thanksgiving) are generated.  In addition to these seasonality indicators, we use lag features to introduce delayed versions of our target variables. Thus, we are able to process our timeseries data with non-timeseries based algorithms. <br><br>"
   ]
  },
  {
   "cell_type": "markdown",
   "metadata": {},
   "source": [
    "<div style=\"background-color: lightblue; color: black; padding: 10px; font-weight: bold; font-size: 15px;\">Import modules</div>"
   ]
  },
  {
   "cell_type": "code",
   "execution_count": 1,
   "metadata": {},
   "outputs": [],
   "source": [
    "import pandas as pd\n",
    "import numpy as np\n",
    "\n",
    "import warnings\n",
    "warnings.filterwarnings(\"ignore\")\n",
    "warnings.filterwarnings(\"ignore\", category=RuntimeWarning)"
   ]
  },
  {
   "cell_type": "markdown",
   "metadata": {},
   "source": [
    "<div style=\"background-color: lightblue; color: black; padding: 10px; font-weight: bold; font-size: 15px;\">Reading file</div>"
   ]
  },
  {
   "cell_type": "code",
   "execution_count": 2,
   "metadata": {},
   "outputs": [],
   "source": [
    "df = pd.read_pickle('data/data_combined_clean_2.pkl')"
   ]
  },
  {
   "cell_type": "markdown",
   "metadata": {},
   "source": [
    "<div style=\"background-color: lightblue; color: black; padding: 10px; font-weight: bold; font-size: 15px;\">Columns for Date</div>"
   ]
  },
  {
   "cell_type": "code",
   "execution_count": 3,
   "metadata": {},
   "outputs": [],
   "source": [
    "# create month and calender week column\n",
    "df['Month'] = df['Date'].dt.month\n",
    "df['Month'] = df['Month'].astype(int)\n",
    "df['Week'] = df['Date'].dt.strftime('%U')\n",
    "df['Week'] = df['Week'].astype(int)\n",
    "\n",
    "#change year column dtype\n",
    "df['Year'] = df['Year'].astype(int)"
   ]
  },
  {
   "cell_type": "markdown",
   "metadata": {},
   "source": [
    "<div style=\"background-color: lightblue; color: black; padding: 10px; font-weight: bold; font-size: 15px;\">Engineering features</div>"
   ]
  },
  {
   "cell_type": "markdown",
   "metadata": {},
   "source": [
    "Now columns are created, each containing the information whether it is a Christmas, Super Bowl, Labor Day or Thanksgiving week.<br>\n",
    "Dates:<br>\n",
    "Super Bowl: 12-Feb-10, 11-Feb-11, 10-Feb-12 <br>\n",
    "Labor Day: 10-Sep-10, 9-Sep-11, 7-Sep-12 <br>\n",
    "Thanksgiving: 26-Nov-10, 25-Nov-11, 23-Nov-12 <br>\n",
    "Christmas: 31-Dec-10, 30-Dec-11, 28-Dec-12 <br>\n",
    "\n"
   ]
  },
  {
   "cell_type": "code",
   "execution_count": 4,
   "metadata": {},
   "outputs": [],
   "source": [
    "df['Date'] = pd.to_datetime(df['Date'])\n",
    "\n",
    "df['Thanksgiv'] = [1 if x==pd.to_datetime('2010-11-26') \n",
    "                   or x==pd.to_datetime('2011-11-25') \n",
    "                   or x==pd.to_datetime('2012-11-23') \n",
    "                   else 0 for x in df['Date']]\n",
    "\n",
    "df['Christmas'] = [1 if x==pd.to_datetime('2010-12-31') \n",
    "                   or x==pd.to_datetime('2011-12-30') \n",
    "                   or x==pd.to_datetime('2012-12-28') \n",
    "                   else 0 for x in df['Date']]\n"
   ]
  },
  {
   "cell_type": "markdown",
   "metadata": {},
   "source": [
    "We only develop features for Christmas and Thanksgiving. After also developing features for Labor Day and Super Bowl, we decided not to include them in our final version because they did not pass cost-benefit considerations. They were time-consuming to calculate and did not improve the model much."
   ]
  },
  {
   "cell_type": "markdown",
   "metadata": {},
   "source": [
    "<div style=\"background-color: lightblue; color: black; padding: 10px; font-weight: bold; font-size: 15px;\">Feature engineering with shifting</div>"
   ]
  },
  {
   "cell_type": "code",
   "execution_count": 5,
   "metadata": {},
   "outputs": [],
   "source": [
    "df = df.sort_values(by=['Store', 'Dept', 'Date'])"
   ]
  },
  {
   "cell_type": "code",
   "execution_count": 6,
   "metadata": {},
   "outputs": [],
   "source": [
    "df['Shifted_Rolling_Avg_4'] = df['Weekly_Sales'].shift(periods=1)\n",
    "df['Shifted_Rolling_Avg_5'] = df['Weekly_Sales'].shift(periods=2)\n",
    "df['Shifted_Rolling_Avg_6'] = df['Weekly_Sales'].shift(periods=4)\n",
    "df['Shifted_Rolling_Avg_7'] = df['Weekly_Sales'].shift(periods=52)\n",
    "\n",
    "df = df.dropna()"
   ]
  },
  {
   "cell_type": "markdown",
   "metadata": {},
   "source": [
    "<div style=\"background-color: lightblue; color: black; padding: 10px; font-weight: bold; font-size: 15px;\">Creating dummies for holiday, type, store and department column</div>"
   ]
  },
  {
   "cell_type": "code",
   "execution_count": 7,
   "metadata": {},
   "outputs": [],
   "source": [
    "df = pd.get_dummies(df, columns=['IsHoliday'], prefix='IsHoliday', drop_first=True, dtype=int)\n",
    "df = pd.get_dummies(df, columns=['Type'], prefix='Type', drop_first=True, dtype=int)"
   ]
  },
  {
   "cell_type": "markdown",
   "metadata": {},
   "source": [
    "<div style=\"background-color: lightblue; color: black; padding: 10px; font-weight: bold; font-size: 15px;\">Next safing new file.</div>"
   ]
  },
  {
   "cell_type": "code",
   "execution_count": 12,
   "metadata": {},
   "outputs": [],
   "source": [
    "df.to_pickle('data/data_combined_clean_features_9.pkl')"
   ]
  }
 ],
 "metadata": {
  "kernelspec": {
   "display_name": ".venv",
   "language": "python",
   "name": "python3"
  },
  "language_info": {
   "codemirror_mode": {
    "name": "ipython",
    "version": 3
   },
   "file_extension": ".py",
   "mimetype": "text/x-python",
   "name": "python",
   "nbconvert_exporter": "python",
   "pygments_lexer": "ipython3",
   "version": "3.11.3"
  },
  "orig_nbformat": 4
 },
 "nbformat": 4,
 "nbformat_minor": 2
}
