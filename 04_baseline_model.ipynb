{
 "cells": [
  {
   "cell_type": "markdown",
   "metadata": {},
   "source": [
    "<div style=\"background-color: lightblue; color: black; padding: 20px; font-weight: bold; font-size: 20px;\">Baseline-modell</div><br>\n",
    "<div style=\"background-color: lightblue; color: black; padding: 10px; font-weight: bold; font-size: 15px;\">The baseline model is a simple approach to predict weekly sales based on sales in recent years. For this purpose, the weekly sales from 2010 to 2011 are used. This is then evaluated in a validation and a test period in terms of RMSE in 2012.</div>"
   ]
  },
  {
   "cell_type": "code",
   "execution_count": 16,
   "metadata": {},
   "outputs": [],
   "source": [
    "import pandas as pd\n",
    "import numpy as np\n",
    "from pandas.tseries.offsets import DateOffset\n",
    "from sklearn.metrics import mean_squared_error    "
   ]
  },
  {
   "cell_type": "code",
   "execution_count": 17,
   "metadata": {},
   "outputs": [],
   "source": [
    "\"\"\"\n",
    "Calculate the baseline model for predicting weekly sales \n",
    "for different store location and different departments\n",
    "based on a training time between 2010-02-01 and 2012-01-05. \n",
    "Testing period is between 1012-06-09 and 2012-10-31.\n",
    " \n",
    " \"\"\"\n",
    "\n",
    "# get data from the \n",
    "df = pd.read_pickle('data/data_combined_clean_2.pkl')      # read latest version of cleaned data\n",
    "df.tail()\n",
    "# Add Calendar week\n",
    "df['CW'] = df['Date'].dt.isocalendar()['week']"
   ]
  },
  {
   "cell_type": "code",
   "execution_count": 18,
   "metadata": {},
   "outputs": [],
   "source": [
    "#define train, validation and test dataset\n",
    "train_data = df[df['Date'] < \"2012-01-06\"].reset_index(drop=True)\n",
    "val_data = df[(df['Date'] >= \"2012-01-06\") & (df['Date'] <= \"2012-06-08\")].reset_index(drop=True)\n",
    "test_data = df[df['Date'] > \"2012-06-08\"].reset_index(drop=True)\n",
    "\n",
    "# Calculate mean Weekly_Sales for each Store and Dept in the training data\n",
    "#                                                                                                          \n",
    "train_mean_sales = train_data.groupby(['Store', 'Dept', 'CW'])['Weekly_Sales'].mean().reset_index()                                                                                           "
   ]
  },
  {
   "cell_type": "code",
   "execution_count": 19,
   "metadata": {},
   "outputs": [],
   "source": [
    "# Merge mean_sales with the test_data\n",
    "test_data_with_mean = pd.merge(test_data, train_mean_sales, on=['Store', 'Dept', 'CW'], how='left', suffixes=('_test_data', '_train_data_mean')) \n",
    "test_data_with_mean.head()\n",
    "val_data_with_mean = pd.merge(val_data, train_mean_sales, on=['Store', 'Dept', 'CW'], how='left', suffixes=('_test_data', '_train_data_mean'))"
   ]
  },
  {
   "cell_type": "code",
   "execution_count": 20,
   "metadata": {},
   "outputs": [
    {
     "name": "stdout",
     "output_type": "stream",
     "text": [
      "Root Mean Squared Error(RMSE): 4172.0\n"
     ]
    }
   ],
   "source": [
    "# Calculate RMSE VALIDATION DATA\n",
    "rmse = np.sqrt(mean_squared_error(val_data_with_mean['Weekly_Sales_test_data'], val_data_with_mean['Weekly_Sales_train_data_mean']))\n",
    "print(f\"Root Mean Squared Error(RMSE): {rmse.round(0)}\")"
   ]
  },
  {
   "cell_type": "code",
   "execution_count": 21,
   "metadata": {},
   "outputs": [
    {
     "name": "stdout",
     "output_type": "stream",
     "text": [
      "Root Mean Squared Error(RMSE): 3940.0\n"
     ]
    }
   ],
   "source": [
    "# Calculate RMSE TEST DATA\n",
    "rmse = np.sqrt(mean_squared_error(test_data_with_mean['Weekly_Sales_test_data'], test_data_with_mean['Weekly_Sales_train_data_mean']))\n",
    "print(f\"Root Mean Squared Error(RMSE): {rmse.round(0)}\")"
   ]
  }
 ],
 "metadata": {
  "kernelspec": {
   "display_name": ".venv",
   "language": "python",
   "name": "python3"
  },
  "language_info": {
   "codemirror_mode": {
    "name": "ipython",
    "version": 3
   },
   "file_extension": ".py",
   "mimetype": "text/x-python",
   "name": "python",
   "nbconvert_exporter": "python",
   "pygments_lexer": "ipython3",
   "version": "3.11.3"
  },
  "orig_nbformat": 4
 },
 "nbformat": 4,
 "nbformat_minor": 2
}
